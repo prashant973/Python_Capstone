{
  "nbformat": 4,
  "nbformat_minor": 0,
  "metadata": {
    "colab": {
      "provenance": []
    },
    "kernelspec": {
      "name": "python3",
      "display_name": "Python 3"
    },
    "language_info": {
      "name": "python"
    }
  },
  "cells": [
    {
      "cell_type": "code",
      "source": [
        "import random\n",
        "import smtplib\n",
        "from email.message import EmailMessage\n",
        "import getpass\n",
        "\n",
        "#Function to generate a 6-digit OTP\n",
        "def generate_otp():\n",
        "    return random.randint(100000, 999999)\n",
        "\n",
        "#Function to send OTP via email\n",
        "def send_otp(email, otp):\n",
        "    sender_email = \"prashant.malishare@gmail.com\"\n",
        "    sender_password = getpass.getpass(\"Enter your password: \")\n",
        "\n",
        "    msg = EmailMessage()\n",
        "    msg.set_content(f\"Your OTP is {otp}\")\n",
        "    msg[\"Subject\"] = \"Your OTP Code\"\n",
        "    msg[\"From\"] = sender_email\n",
        "    msg[\"To\"] = email\n",
        "\n",
        "    #Sending email\n",
        "    try:\n",
        "        with smtplib.SMTP_SSL(\"smtp.gmail.com\", 465) as server:\n",
        "            server.login(sender_email, sender_password)\n",
        "            server.send_message(msg)\n",
        "        print(f\"OTP sent to {email}\")\n",
        "    except Exception as e:\n",
        "        print(f\"Failed to send email: {e}\")\n",
        "\n",
        "# Function to validate the OTP entered by the user\n",
        "def validate_otp(generated_otp):\n",
        "    user_otp = input(\"Enter the OTP sent to your email: \")\n",
        "    if user_otp.isdigit() and int(user_otp) == generated_otp:\n",
        "        return True\n",
        "    return False\n",
        "\n",
        "def main():\n",
        "    email = input(\"Enter your email address: \")\n",
        "    otp = generate_otp()\n",
        "    send_otp(email, otp)\n",
        "\n",
        "    if validate_otp(otp):\n",
        "        print(\"Access Granted\")\n",
        "    else:\n",
        "        print(\"Access Denied\")\n",
        "\n",
        "if __name__ == \"__main__\":\n",
        "    main()"
      ],
      "metadata": {
        "colab": {
          "base_uri": "https://localhost:8080/"
        },
        "id": "ojj4g-aEBQP8",
        "outputId": "75cceafc-8ca3-4a59-b186-c89b357e4342"
      },
      "execution_count": null,
      "outputs": [
        {
          "output_type": "stream",
          "name": "stdout",
          "text": [
            "Enter your email address: prashant.malishare@gmail.com\n",
            "Enter your password: ··········\n",
            "OTP sent to prashant.malishare@gmail.com\n",
            "Enter the OTP sent to your email: 123456\n",
            "Access Denied\n"
          ]
        }
      ]
    }
  ]
}